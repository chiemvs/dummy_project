{
 "cells": [
  {
   "cell_type": "code",
   "execution_count": null,
   "id": "c6739b84-bef9-40c7-a818-80dc05dea80c",
   "metadata": {},
   "outputs": [],
   "source": [
    "import os\n",
    "import sys\n",
    "import numpy as np\n",
    "import xarray as xr\n",
    "import pandas as pd\n",
    "\n",
    "#sys.path.append(os.path.expanduser('~/dummy_project'))\n",
    "#from dummy_project.dataloading import dutch_rainfall"
   ]
  },
  {
   "cell_type": "code",
   "execution_count": null,
   "id": "07b6b629-0fb6-4f87-8070-bf81681f7769",
   "metadata": {},
   "outputs": [],
   "source": [
    "datapath = '/scistor/ivm/data_catalogue/observations/EOBS/rr_ens_mean_0.1deg_reg_v27.0e.nc'"
   ]
  },
  {
   "cell_type": "code",
   "execution_count": null,
   "id": "f9a0edae-86df-4b87-8807-53ef6818dc84",
   "metadata": {},
   "outputs": [],
   "source": [
    "def dutch_rainfall():\n",
    "    da = xr.open_dataarray(datapath)\n",
    "    rf = da.sel(latitude = 52, longitude = 5.2, method = 'nearest')\n",
    "    return rf"
   ]
  }
 ],
 "metadata": {
  "kernelspec": {
   "display_name": "Python 3 (ipykernel)",
   "language": "python",
   "name": "python3"
  },
  "language_info": {
   "codemirror_mode": {
    "name": "ipython",
    "version": 3
   },
   "file_extension": ".py",
   "mimetype": "text/x-python",
   "name": "python",
   "nbconvert_exporter": "python",
   "pygments_lexer": "ipython3",
   "version": "3.10.8"
  }
 },
 "nbformat": 4,
 "nbformat_minor": 5
}
